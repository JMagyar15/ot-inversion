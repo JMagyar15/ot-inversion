{
 "metadata": {
  "language_info": {
   "codemirror_mode": {
    "name": "ipython",
    "version": 3
   },
   "file_extension": ".py",
   "mimetype": "text/x-python",
   "name": "python",
   "nbconvert_exporter": "python",
   "pygments_lexer": "ipython3",
   "version": 3
  },
  "orig_nbformat": 2
 },
 "nbformat": 4,
 "nbformat_minor": 2,
 "cells": [
  {
   "cell_type": "code",
   "execution_count": null,
   "metadata": {},
   "outputs": [],
   "source": []
  },
  {
   "source": [
    "# Gaussian Mixture Model Inversion Using Optimal Transport\n",
    "\n",
    "In this notebook, we will consider the problem of fitting a Gaussian Mixture Model (GMM) by varying its parameters to optimise the Wasserstein distance between it and its target. GMMs are of interest as there exists a simple, closed form analytical solution for the 2-Wasserstein distance between Gaussian distributions of any dimension. Firstly, consider the following two mass distributions.\n",
    "\n",
    "\\begin{align}\n",
    "f(x) &= \\sum_{i=1}^n p_i f_i(x) \\\\\n",
    "g(x) &= \\sum_{j=1}^m q_j g_j(x)\n",
    "\\end{align}"
   ],
   "cell_type": "markdown",
   "metadata": {}
  }
 ]
}