{
 "cells": [
  {
   "cell_type": "code",
   "execution_count": 2,
   "metadata": {},
   "outputs": [],
   "source": [
    "import numpy as np\n",
    "import matplotlib.pyplot as plt\n",
    "\n",
    "from Core_Functions import simple as sp\n",
    "from Core_Functions import gmm_base as gb\n",
    "import ot"
   ]
  },
  {
   "cell_type": "markdown",
   "metadata": {},
   "source": [
    "## Misfit Surfaces with Uniform Points"
   ]
  },
  {
   "cell_type": "code",
   "execution_count": 3,
   "metadata": {},
   "outputs": [],
   "source": [
    "pw = np.array([0.2,0.8])\n",
    "pm = np.array([2,5]).reshape([2,1])\n",
    "pc = np.array([0.5,1.8]).reshape([2,1,1])\n",
    "\n",
    "post = gb.Gaussian_Mixture(pw,pm,pc)\n",
    "\n",
    "#we can find the exact maps from the posterior to the intermediate\n",
    "e_InvV = sp.MapstoRef(post)"
   ]
  },
  {
   "cell_type": "code",
   "execution_count": 4,
   "metadata": {},
   "outputs": [],
   "source": [
    "#now pick our model points uniformly\n",
    "m_points = sp.Model_Points(np.linspace(-10,10,100).reshape([100,1]))\n",
    "post_eval = sp.Evaluate_Mixture(post,m_points)\n",
    "misfit1 = np.zeros(50)\n",
    "misfit2 = np.zeros(50)\n",
    "misfit3 = np.zeros(50)\n",
    "misfit4 = np.zeros(50)\n",
    "\n",
    "#lets first look at the misfit surfaces for the shift b - expect this to have local minima for 2-comp mixture!\n",
    "i = 0\n",
    "b1_ex = e_InvV.b[0,0]\n",
    "b2_ex = e_InvV.b[1,0]\n",
    "L1_ex = e_InvV.L[0,0,0]\n",
    "L2_ex = e_InvV.L[1,0,0]\n",
    "\n",
    "for b1 in np.linspace(-10,10,50):\n",
    "    L = e_InvV.L.copy()\n",
    "    b = e_InvV.b.copy()\n",
    "    b[0,0] = b1\n",
    "    q = np.array([0.2,0.8])\n",
    "    InvV = sp.Affine_Maps(L,b)\n",
    "    \n",
    "    s,r,misfit1[i] = sp.Log_Scaling(post_eval,q,InvV,m_points) \n",
    "    \n",
    "    i += 1\n",
    "\n",
    "i = 0\n",
    "for b2 in np.linspace(-10,10,50):\n",
    "    L = e_InvV.L.copy()\n",
    "    b = e_InvV.b.copy()\n",
    "    b[1,0] = b2\n",
    "    q = np.array([0.2,0.8])\n",
    "    InvV = sp.Affine_Maps(L,b)\n",
    "    \n",
    "    s,r,misfit2[i] = sp.Log_Scaling(post_eval,q,InvV,m_points) \n",
    "    \n",
    "    i += 1\n",
    "    \n",
    "i = 0\n",
    "for L1 in np.linspace(0,10,50):\n",
    "    L = e_InvV.L.copy()\n",
    "    b = e_InvV.b.copy()\n",
    "    L[0,0,0] = L1\n",
    "    q = np.array([0.2,0.8])\n",
    "    InvV = sp.Affine_Maps(L,b)\n",
    "    \n",
    "    s,r,misfit3[i] = sp.Log_Scaling(post_eval,q,InvV,m_points) \n",
    "    \n",
    "    i += 1\n",
    "    \n",
    "i = 0\n",
    "for L2 in np.linspace(0,10,50):\n",
    "    L = e_InvV.L.copy()\n",
    "    b = e_InvV.b.copy()\n",
    "    L[1,0,0] = L2\n",
    "    q = np.array([0.2,0.8])\n",
    "    InvV = sp.Affine_Maps(L,b)\n",
    "    \n",
    "    s,r,misfit4[i] = sp.Log_Scaling(post_eval,q,InvV,m_points) \n",
    "    \n",
    "    i += 1"
   ]
  },
  {
   "cell_type": "code",
   "execution_count": 5,
   "metadata": {},
   "outputs": [
    {
     "data": {
      "text/plain": [
       "<matplotlib.lines.Line2D at 0x11981e910>"
      ]
     },
     "execution_count": 5,
     "metadata": {},
     "output_type": "execute_result"
    },
    {
     "data": {
      "image/png": "[encoded data removed]",
      "text/plain": [
       "<Figure size 720x288 with 4 Axes>"
      ]
     },
     "metadata": {
      "needs_background": "light"
     },
     "output_type": "display_data"
    }
   ],
   "source": [
    "fig, ax = plt.subplots(ncols=2,nrows=2,figsize=[10,4])\n",
    "\n",
    "ax[0,0].plot(np.linspace(-10,10,50),misfit1,'-k',linewidth=2)\n",
    "ax[0,0].axvline(x=b1_ex,color='red',ls='--')\n",
    "\n",
    "ax[0,1].plot(np.linspace(-10,10,50),misfit2,'-k',linewidth=2)\n",
    "ax[0,1].axvline(x=b2_ex,color='red',ls='--')\n",
    "\n",
    "ax[1,0].plot(np.linspace(0,10,50),misfit3,'-k',linewidth=2)\n",
    "ax[1,0].axvline(x=L1_ex,color='red',ls='--')\n",
    "\n",
    "ax[1,1].plot(np.linspace(0,10,50),misfit4,'-k',linewidth=2)\n",
    "ax[1,1].axvline(x=L2_ex,color='red',ls='--')"
   ]
  },
  {
   "cell_type": "markdown",
   "metadata": {},
   "source": [
    "## Misfit Surfaces with Sampled Points"
   ]
  },
  {
   "cell_type": "code",
   "execution_count": 6,
   "metadata": {},
   "outputs": [
    {
     "name": "stderr",
     "output_type": "stream",
     "text": [
      "/Users/Jared/Dropbox/Coding/ot-inversion/Core_Functions/simple.py:280: RuntimeWarning: divide by zero encountered in log\n",
      "  s = np.log(Posterior) - np.log(g_est)\n",
      "/Users/Jared/Dropbox/Coding/ot-inversion/Core_Functions/simple.py:283: RuntimeWarning: invalid value encountered in subtract\n",
      "  r = s - np.mean(s)\n"
     ]
    }
   ],
   "source": [
    "\n",
    "misfit1 = np.zeros(50)\n",
    "misfit2 = np.zeros(50)\n",
    "misfit3 = np.zeros(50)\n",
    "misfit4 = np.zeros(50)\n",
    "\n",
    "#lets first look at the misfit surfaces for the shift b - expect this to have local minima for 2-comp mixture!\n",
    "i = 0\n",
    "b1_ex = e_InvV.b[0,0]\n",
    "b2_ex = e_InvV.b[1,0]\n",
    "L1_ex = e_InvV.L[0,0,0]\n",
    "L2_ex = e_InvV.L[1,0,0]\n",
    "\n",
    "for b1 in np.linspace(-10,10,50):\n",
    "    L = e_InvV.L.copy()\n",
    "    b = e_InvV.b.copy()\n",
    "    b[0,0] = b1\n",
    "    q = np.array([0.2,0.8])\n",
    "    InvV = sp.Affine_Maps(L,b)\n",
    "    \n",
    "    current_mix = sp.InvMaptoMixture(InvV,q)\n",
    "    m_points = sp.Sample_Mixture(current_mix,1000)\n",
    "    post_eval = sp.Evaluate_Mixture(post,m_points)\n",
    "    \n",
    "    s,r,misfit1[i] = sp.Log_Scaling(post_eval,q,InvV,m_points) \n",
    "    \n",
    "    i += 1\n",
    "\n",
    "i = 0\n",
    "for b2 in np.linspace(-10,10,50):\n",
    "    L = e_InvV.L.copy()\n",
    "    b = e_InvV.b.copy()\n",
    "    b[1,0] = b2\n",
    "    q = np.array([0.2,0.8])\n",
    "    InvV = sp.Affine_Maps(L,b)\n",
    "    \n",
    "    current_mix = sp.InvMaptoMixture(InvV,q)\n",
    "    m_points = sp.Sample_Mixture(current_mix,1000)\n",
    "    post_eval = sp.Evaluate_Mixture(post,m_points)\n",
    "    \n",
    "    s,r,misfit2[i] = sp.Log_Scaling(post_eval,q,InvV,m_points) \n",
    "    \n",
    "    i += 1\n",
    "    \n",
    "i = 0\n",
    "for L1 in np.linspace(0.1,10,50):\n",
    "    L = e_InvV.L.copy()\n",
    "    b = e_InvV.b.copy()\n",
    "    L[0,0,0] = L1\n",
    "    q = np.array([0.2,0.8])\n",
    "    InvV = sp.Affine_Maps(L,b)\n",
    "    \n",
    "    current_mix = sp.InvMaptoMixture(InvV,q)\n",
    "    m_points = sp.Sample_Mixture(current_mix,1000)\n",
    "    post_eval = sp.Evaluate_Mixture(post,m_points)\n",
    "    \n",
    "    s,r,misfit3[i] = sp.Log_Scaling(post_eval,q,InvV,m_points) \n",
    "    \n",
    "    i += 1\n",
    "    \n",
    "i = 0\n",
    "for L2 in np.linspace(0.1,10,50):\n",
    "    L = e_InvV.L.copy()\n",
    "    b = e_InvV.b.copy()\n",
    "    L[1,0,0] = L2\n",
    "    q = np.array([0.2,0.8])\n",
    "    InvV = sp.Affine_Maps(L,b)\n",
    "    \n",
    "    current_mix = sp.InvMaptoMixture(InvV,q)\n",
    "    m_points = sp.Sample_Mixture(current_mix,1000)\n",
    "    post_eval = sp.Evaluate_Mixture(post,m_points)\n",
    "    \n",
    "    s,r,misfit4[i] = sp.Log_Scaling(post_eval,q,InvV,m_points) \n",
    "    \n",
    "    i += 1"
   ]
  },
  {
   "cell_type": "code",
   "execution_count": 7,
   "metadata": {},
   "outputs": [
    {
     "data": {
      "text/plain": [
       "<matplotlib.lines.Line2D at 0x119b22370>"
      ]
     },
     "execution_count": 7,
     "metadata": {},
     "output_type": "execute_result"
    },
    {
     "data": {
      "image/png": "[encoded data removed]",
      "text/plain": [
       "<Figure size 720x288 with 4 Axes>"
      ]
     },
     "metadata": {
      "needs_background": "light"
     },
     "output_type": "display_data"
    }
   ],
   "source": [
    "fig, ax = plt.subplots(ncols=2,nrows=2,figsize=[10,4])\n",
    "\n",
    "ax[0,0].plot(np.linspace(-10,10,50),misfit1,'-k',linewidth=2)\n",
    "ax[0,0].axvline(x=b1_ex,color='red',ls='--')\n",
    "\n",
    "ax[0,1].plot(np.linspace(-10,10,50),misfit2,'-k',linewidth=2)\n",
    "ax[0,1].axvline(x=b2_ex,color='red',ls='--')\n",
    "\n",
    "ax[1,0].plot(np.linspace(0,10,50),misfit3,'-k',linewidth=2)\n",
    "ax[1,0].axvline(x=L1_ex,color='red',ls='--')\n",
    "\n",
    "ax[1,1].plot(np.linspace(0,10,50),misfit4,'-k',linewidth=2)\n",
    "ax[1,1].axvline(x=L2_ex,color='red',ls='--')"
   ]
  },
  {
   "cell_type": "code",
   "execution_count": 8,
   "metadata": {},
   "outputs": [],
   "source": [
    "W2 = np.zeros(50)\n",
    "i = 0\n",
    "for b1 in np.linspace(-10,10,20):\n",
    "    L = e_InvV.L.copy()\n",
    "    b = e_InvV.b.copy()\n",
    "    b[0,0] = b1\n",
    "    q = np.array([0.2,0.8])\n",
    "    InvV = sp.Affine_Maps(L,b)\n",
    "    \n",
    "    current_mix = sp.InvMaptoMixture(InvV,q)\n",
    "    m_points = sp.Sample_Mixture(current_mix,50)\n",
    "    post_eval = sp.Evaluate_Mixture(post,m_points)\n",
    "    prior_eval = sp.Evaluate_Mixture(current_mix,m_points)\n",
    "\n",
    "    source = prior_eval / prior_eval\n",
    "    source /= np.sum(source)\n",
    "    target = post_eval / prior_eval\n",
    "    target /= np.sum(target)\n",
    "\n",
    "    C = ot.dist(m_points.all,m_points.all)\n",
    "    P, log = ot.bregman.sinkhorn_stabilized(source,target,C,0.01,log=True)\n",
    "\n",
    "    W2[i] = np.inner(log['alpha'],source) + np.inner(log['beta'],target)\n",
    "    i += 1"
   ]
  },
  {
   "cell_type": "code",
   "execution_count": 9,
   "metadata": {},
   "outputs": [
    {
     "data": {
      "text/plain": [
       "[<matplotlib.lines.Line2D at 0x119bb7190>]"
      ]
     },
     "execution_count": 9,
     "metadata": {},
     "output_type": "execute_result"
    },
    {
     "data": {
      "image/png": "[encoded data removed]",
      "text/plain": [
       "<Figure size 432x288 with 1 Axes>"
      ]
     },
     "metadata": {
      "needs_background": "light"
     },
     "output_type": "display_data"
    }
   ],
   "source": [
    "plt.plot(W2[:20])"
   ]
  },
  {
   "cell_type": "code",
   "execution_count": 16,
   "metadata": {},
   "outputs": [
    {
     "data": {
      "text/plain": [
       "7.204154771948953"
      ]
     },
     "execution_count": 16,
     "metadata": {},
     "output_type": "execute_result"
    }
   ],
   "source": [
    "np.inner(log['alpha'],source) + np.inner(log['beta'],target)"
   ]
  },
  {
   "cell_type": "code",
   "execution_count": 54,
   "metadata": {},
   "outputs": [
    {
     "data": {
      "text/plain": [
       "[<matplotlib.lines.Line2D at 0x1207f8e80>]"
      ]
     },
     "execution_count": 54,
     "metadata": {},
     "output_type": "execute_result"
    },
    {
     "data": {
      "image/png": "[encoded data removed]",
      "text/plain": [
       "<Figure size 576x288 with 2 Axes>"
      ]
     },
     "metadata": {
      "needs_background": "light"
     },
     "output_type": "display_data"
    }
   ],
   "source": [
    "L = np.array([0.5,1.2]).reshape([2,1,1])\n",
    "b = np.array([-2,3]).reshape([2,1])\n",
    "p = np.array([0.4,0.6])\n",
    "\n",
    "InvV = sp.Affine_Maps(L,b)\n",
    "source_mix = sp.InvMaptoMixture(InvV,p)\n",
    "\n",
    "\n",
    "m_points = sp.Sample_Mixture(source_mix,1000)\n",
    "post_eval = sp.Evaluate_Mixture(post,m_points)\n",
    "prior_eval = sp.Evaluate_Mixture(source_mix,m_points)\n",
    "\n",
    "source = prior_eval / prior_eval\n",
    "source /= np.sum(source)\n",
    "target = post_eval / prior_eval\n",
    "target /= np.sum(target)\n",
    "\n",
    "fig, ax = plt.subplots(ncols=2,figsize=[8,4])\n",
    "\n",
    "#for visualisation, want to plot the actual source and target mixtures\n",
    "plot_dom = sp.Model_Points(np.linspace(-10,20,100).reshape([100,1]))\n",
    "s = sp.Evaluate_Mixture(source_mix,plot_dom)\n",
    "t = sp.Evaluate_Mixture(post,plot_dom)\n",
    "\n",
    "ax[0].hist(m_points.all,bins=20,weights=source,color='grey')\n",
    "ax[0].set_title('Source Distribution',fontsize=14)\n",
    "ax[0].plot(plot_dom.all,s,'--k',linewidth=2)\n",
    "ax[1].hist(m_points.all,bins=20,weights=target,color='grey')\n",
    "ax[1].set_title('Target Distribution',fontsize=14)\n",
    "ax[1].plot(plot_dom.all,t,'--k',linewidth=2)"
   ]
  },
  {
   "cell_type": "code",
   "execution_count": 55,
   "metadata": {},
   "outputs": [],
   "source": [
    "C = ot.dist(m_points.all,m_points.all)\n",
    "P, log = ot.bregman.sinkhorn_stabilized(source,target,C,0.01,log=True)\n",
    "W2 = np.inner(log['alpha'],source) + np.inner(log['beta'],target)"
   ]
  },
  {
   "cell_type": "code",
   "execution_count": 56,
   "metadata": {},
   "outputs": [
    {
     "data": {
      "text/plain": [
       "18.94724924584075"
      ]
     },
     "execution_count": 56,
     "metadata": {},
     "output_type": "execute_result"
    }
   ],
   "source": [
    "W2"
   ]
  },
  {
   "cell_type": "code",
   "execution_count": 47,
   "metadata": {},
   "outputs": [],
   "source": [
    "W2 = np.zeros(500)\n",
    "\n",
    "for k in range(50):\n",
    "    m_points = sp.Sample_Mixture(source_mix,1000)\n",
    "    post_eval = sp.Evaluate_Mixture(post,m_points)\n",
    "    prior_eval = sp.Evaluate_Mixture(source_mix,m_points)\n",
    "\n",
    "    source = prior_eval / prior_eval\n",
    "    source /= np.sum(source)\n",
    "    target = post_eval / prior_eval\n",
    "    target /= np.sum(target)\n",
    "\n",
    "    C = ot.dist(m_points.all,m_points.all)\n",
    "    P, log = ot.bregman.sinkhorn_stabilized(source,target,C,0.01,log=True)\n",
    "    W2[k] = np.inner(log['alpha'],source) + np.inner(log['beta'],target)"
   ]
  },
  {
   "cell_type": "code",
   "execution_count": 48,
   "metadata": {},
   "outputs": [
    {
     "data": {
      "text/plain": [
       "(array([ 1.,  3.,  9.,  2., 11.,  9.,  8.,  3.,  3.,  1.]),\n",
       " array([18.28339218, 18.74967156, 19.21595095, 19.68223033, 20.14850972,\n",
       "        20.6147891 , 21.08106849, 21.54734787, 22.01362726, 22.47990664,\n",
       "        22.94618603]),\n",
       " <BarContainer object of 10 artists>)"
      ]
     },
     "execution_count": 48,
     "metadata": {},
     "output_type": "execute_result"
    },
    {
     "data": {
      "image/png": "[encoded data removed]",
      "text/plain": [
       "<Figure size 432x288 with 1 Axes>"
      ]
     },
     "metadata": {
      "needs_background": "light"
     },
     "output_type": "display_data"
    }
   ],
   "source": [
    "plt.hist(W2[:50])"
   ]
  },
  {
   "cell_type": "code",
   "execution_count": 50,
   "metadata": {},
   "outputs": [
    {
     "data": {
      "text/plain": [
       "20.584926860172676"
      ]
     },
     "execution_count": 50,
     "metadata": {},
     "output_type": "execute_result"
    }
   ],
   "source": [
    "np.mean(W2[:50])"
   ]
  },
  {
   "cell_type": "code",
   "execution_count": 51,
   "metadata": {},
   "outputs": [
    {
     "data": {
      "text/plain": [
       "array([19.49097837, 20.78808139, 21.00867627, 20.57213946, 19.52523209,\n",
       "       20.25309096, 21.99062645, 19.32146009, 22.08901651, 18.97924008,\n",
       "       21.08833284, 19.66016347, 19.38222441, 18.28339218, 21.31256613,\n",
       "       20.61999922, 21.30351793, 21.08885055, 21.24088033, 21.51872569,\n",
       "       20.37322386, 19.28116689, 21.90120461, 21.86921838, 22.32587704,\n",
       "       20.37697274, 20.83915802, 22.94618603, 19.46043555, 20.83979181,\n",
       "       20.33541994, 21.05091274, 21.40635571, 19.09959681, 20.53758146,\n",
       "       19.62177396, 19.9562263 , 22.07776397, 20.60849688, 20.5969698 ,\n",
       "       20.88184771, 21.50971596, 20.86837982, 20.58721442, 20.77299487,\n",
       "       20.52691495, 20.3028701 , 19.62724739, 19.93988654, 19.20774435])"
      ]
     },
     "execution_count": 51,
     "metadata": {},
     "output_type": "execute_result"
    }
   ],
   "source": [
    "W2[:50]"
   ]
  },
  {
   "cell_type": "code",
   "execution_count": 58,
   "metadata": {},
   "outputs": [
    {
     "data": {
      "text/plain": [
       "[<matplotlib.lines.Line2D at 0x11f980340>]"
      ]
     },
     "execution_count": 58,
     "metadata": {},
     "output_type": "execute_result"
    },
    {
     "data": {
      "image/png": "[encoded data removed]",
      "text/plain": [
       "<Figure size 432x288 with 1 Axes>"
      ]
     },
     "metadata": {
      "needs_background": "light"
     },
     "output_type": "display_data"
    }
   ],
   "source": [
    "plt.plot(m_points.all,log['alpha'] - np.mean(log['alpha']),'ok')\n",
    "plt.plot(m_points.all,log['beta'] - np.mean(log['beta']),'or')"
   ]
  },
  {
   "cell_type": "code",
   "execution_count": null,
   "metadata": {},
   "outputs": [],
   "source": []
  }
 ],
 "metadata": {
  "kernelspec": {
   "display_name": "Python 3",
   "language": "python",
   "name": "python3"
  },
  "language_info": {
   "codemirror_mode": {
    "name": "ipython",
    "version": 3
   },
   "file_extension": ".py",
   "mimetype": "text/x-python",
   "name": "python",
   "nbconvert_exporter": "python",
   "pygments_lexer": "ipython3",
   "version": "3.8.5"
  }
 },
 "nbformat": 4,
 "nbformat_minor": 2
}
